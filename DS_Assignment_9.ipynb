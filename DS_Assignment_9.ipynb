{
  "nbformat": 4,
  "nbformat_minor": 0,
  "metadata": {
    "colab": {
      "provenance": []
    },
    "kernelspec": {
      "name": "python3",
      "display_name": "Python 3"
    },
    "language_info": {
      "name": "python"
    }
  },
  "cells": [
    {
      "cell_type": "code",
      "execution_count": 1,
      "metadata": {
        "colab": {
          "base_uri": "https://localhost:8080/"
        },
        "id": "8lx6SBcsfzJT",
        "outputId": "53cce0b2-7d18-4010-e2f4-e3d6f2b354e0"
      },
      "outputs": [
        {
          "output_type": "stream",
          "name": "stdout",
          "text": [
            "True\n",
            "True\n",
            "False\n"
          ]
        }
      ],
      "source": [
        "#Question 1\n",
        "def isPowerOfTwo(n):\n",
        "    if n <= 0:\n",
        "        return False\n",
        "    return (n & (n - 1)) == 0\n",
        "print(isPowerOfTwo(1))  # Output: True\n",
        "print(isPowerOfTwo(16))  # Output: True\n",
        "print(isPowerOfTwo(3))  # Output: False\n"
      ]
    },
    {
      "cell_type": "code",
      "source": [
        "#Question 2\n",
        "\n",
        "def sumOfNaturalNumbers(n):\n",
        "    return (n * (n + 1)) // 2\n",
        "print(sumOfNaturalNumbers(3))  # Output: 6\n",
        "print(sumOfNaturalNumbers(5))  # Output: 15\n"
      ],
      "metadata": {
        "colab": {
          "base_uri": "https://localhost:8080/"
        },
        "id": "btRcepIBgFWj",
        "outputId": "9cbfe850-942c-45a3-84ff-632c2918bc48"
      },
      "execution_count": 3,
      "outputs": [
        {
          "output_type": "stream",
          "name": "stdout",
          "text": [
            "6\n",
            "15\n"
          ]
        }
      ]
    },
    {
      "cell_type": "code",
      "source": [
        "#Question 3\n",
        "def factorial(N):\n",
        "    result = 1\n",
        "    for i in range(1, N + 1):\n",
        "        result *= i\n",
        "    return result\n",
        "print(factorial(5))  # Output: 120\n",
        "print(factorial(4))  # Output: 24\n"
      ],
      "metadata": {
        "colab": {
          "base_uri": "https://localhost:8080/"
        },
        "id": "Khzx1oplgZbD",
        "outputId": "a9fb38e4-3821-4283-eba6-6e626b3b7a30"
      },
      "execution_count": 4,
      "outputs": [
        {
          "output_type": "stream",
          "name": "stdout",
          "text": [
            "120\n",
            "24\n"
          ]
        }
      ]
    },
    {
      "cell_type": "code",
      "source": [
        "#Question 4\n",
        "def exponent(N, P):\n",
        "    return N ** P\n",
        "print(exponent(5, 2))  # Output: 25\n",
        "print(exponent(2, 5))  # Output: 32\n"
      ],
      "metadata": {
        "colab": {
          "base_uri": "https://localhost:8080/"
        },
        "id": "1uowd0KsgeBa",
        "outputId": "68f1ff03-c4b7-4e18-e7d6-a9c1db84aa3e"
      },
      "execution_count": 5,
      "outputs": [
        {
          "output_type": "stream",
          "name": "stdout",
          "text": [
            "25\n",
            "32\n"
          ]
        }
      ]
    },
    {
      "cell_type": "code",
      "source": [
        "#Question 5\n",
        "def findMax(arr, start, end):\n",
        "    if start == end:\n",
        "        return arr[start]\n",
        "\n",
        "    mid = (start + end) // 2\n",
        "    max1 = findMax(arr, start, mid)\n",
        "    max2 = findMax(arr, mid + 1, end)\n",
        "\n",
        "    return max1 if max1 >= max2 else max2\n",
        "\n",
        "\n",
        "# Test the function\n",
        "arr1 = [1, 4, 3, -5, -4, 8, 6]\n",
        "print(findMax(arr1, 0, len(arr1) - 1))  # Output: 8\n",
        "\n",
        "arr2 = [1, 4, 45, 6, 10, -8]\n",
        "print(findMax(arr2, 0, len(arr2) - 1))  # Output: 45\n"
      ],
      "metadata": {
        "colab": {
          "base_uri": "https://localhost:8080/"
        },
        "id": "aDZIkNwJgmSO",
        "outputId": "b53ede40-f893-4ab7-bfb8-35c6a9d2c768"
      },
      "execution_count": 6,
      "outputs": [
        {
          "output_type": "stream",
          "name": "stdout",
          "text": [
            "8\n",
            "45\n"
          ]
        }
      ]
    },
    {
      "cell_type": "code",
      "source": [
        "#Question 6\n",
        "def findNthTerm(a, d, N):\n",
        "    return a + (N - 1) * d\n",
        "print(findNthTerm(2, 1, 5))  # Output: 6\n",
        "print(findNthTerm(5, 2, 10))  # Output: 23\n",
        "\n"
      ],
      "metadata": {
        "colab": {
          "base_uri": "https://localhost:8080/"
        },
        "id": "N1FV__jugviS",
        "outputId": "d2118988-b911-4927-87b9-df0a2212e586"
      },
      "execution_count": 7,
      "outputs": [
        {
          "output_type": "stream",
          "name": "stdout",
          "text": [
            "6\n",
            "23\n"
          ]
        }
      ]
    },
    {
      "cell_type": "code",
      "source": [
        "#Question7\n",
        "def generatePermutations(s, left, right):\n",
        "    if left == right:\n",
        "        print(s)\n",
        "    else:\n",
        "        for i in range(left, right + 1):\n",
        "            s = swap(s, left, i)\n",
        "            generatePermutations(s, left + 1, right)\n",
        "            s = swap(s, left, i)  # Undo the swap\n",
        "\n",
        "def swap(s, i, j):\n",
        "    chars = list(s)\n",
        "    chars[i], chars[j] = chars[j], chars[i]\n",
        "    return ''.join(chars)\n",
        "\n",
        "# Test the function\n",
        "S1 = \"ABC\"\n",
        "print(\"Permutations of '{}'\".format(S1))\n",
        "generatePermutations(S1, 0, len(S1) - 1)\n",
        "\n",
        "S2 = \"XY\"\n",
        "print(\"Permutations of '{}'\".format(S2))\n",
        "generatePermutations(S2, 0, len(S2) - 1)\n"
      ],
      "metadata": {
        "colab": {
          "base_uri": "https://localhost:8080/"
        },
        "id": "3W2bw9eZg-SY",
        "outputId": "b7bc248e-1d4a-432d-f47b-030389f6b281"
      },
      "execution_count": 8,
      "outputs": [
        {
          "output_type": "stream",
          "name": "stdout",
          "text": [
            "Permutations of 'ABC'\n",
            "ABC\n",
            "ACB\n",
            "BAC\n",
            "BCA\n",
            "CBA\n",
            "CAB\n",
            "Permutations of 'XY'\n",
            "XY\n",
            "YX\n"
          ]
        }
      ]
    },
    {
      "cell_type": "code",
      "source": [
        "#Question8\n",
        "def productOfArray(arr):\n",
        "    product = 1\n",
        "    for num in arr:\n",
        "        product *= num\n",
        "    return product\n",
        "arr1 = [1, 2, 3, 4, 5]\n",
        "print(productOfArray(arr1))  # Output: 120\n",
        "\n",
        "arr2 = [1, 6, 3]\n",
        "print(productOfArray(arr2))  # Output: 18\n"
      ],
      "metadata": {
        "colab": {
          "base_uri": "https://localhost:8080/"
        },
        "id": "e1KfYOcrhA-2",
        "outputId": "17d4e25e-fb02-40eb-cdd9-0915753041be"
      },
      "execution_count": 10,
      "outputs": [
        {
          "output_type": "stream",
          "name": "stdout",
          "text": [
            "120\n",
            "18\n"
          ]
        }
      ]
    },
    {
      "cell_type": "code",
      "source": [],
      "metadata": {
        "id": "MfOc4V5UhKNY"
      },
      "execution_count": null,
      "outputs": []
    }
  ]
}